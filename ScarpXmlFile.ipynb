{
  "nbformat": 4,
  "nbformat_minor": 0,
  "metadata": {
    "colab": {
      "name": "ScarpXmlFile.ipynb",
      "provenance": []
    },
    "kernelspec": {
      "name": "python3",
      "display_name": "Python 3"
    },
    "language_info": {
      "name": "python"
    },
    "accelerator": "GPU"
  },
  "cells": [
    {
      "cell_type": "code",
      "metadata": {
        "colab": {
          "base_uri": "https://localhost:8080/"
        },
        "id": "eY5WNamTHQNg",
        "outputId": "b7ded2dc-7e94-404b-878a-d4fd380c3127"
      },
      "source": [
        "from google.colab import drive\n",
        "\n",
        "drive.mount(\"/content/gdrive\")\n",
        "\n"
      ],
      "execution_count": null,
      "outputs": [
        {
          "output_type": "stream",
          "text": [
            "Mounted at /content/gdrive\n"
          ],
          "name": "stdout"
        }
      ]
    },
    {
      "cell_type": "code",
      "metadata": {
        "id": "PWuJ4YA6KNXU"
      },
      "source": [
        "link = \"/content/gdrive/MyDrive/annotations\""
      ],
      "execution_count": null,
      "outputs": []
    },
    {
      "cell_type": "code",
      "metadata": {
        "id": "_1I0UGXnG-td"
      },
      "source": [
        "import os\n",
        "from bs4 import BeautifulSoup\n",
        "\n",
        "image_name = []\n",
        "class_name = []\n",
        "min_x = []\n",
        "min_y = []\n",
        "max_x = []\n",
        "max_y = []\n",
        "import csv\n",
        "for f in os.listdir(link):\n",
        "  infile = open(os.path.join(link,f),\"r\")\n",
        "  contents = infile.read()\n",
        "  soup = BeautifulSoup(contents,'xml')\n",
        "  file_name = soup.find('filename')\n",
        "  objects = soup.find_all('object')\n",
        "  for obj in objects:\n",
        "    image_name.append(file_name.get_text().lstrip().rstrip())\n",
        "    class_name.append(obj.find('name').get_text().lstrip().rstrip())\n",
        "    min_x.append(obj.find('xmin').get_text().lstrip().rstrip())\n",
        "    max_x.append(obj.find('xmax').get_text().lstrip().rstrip())\n",
        "    min_y.append(obj.find('ymin').get_text().lstrip().rstrip())\n",
        "    max_y.append(obj.find('ymax').get_text().lstrip().rstrip())\n",
        "      "
      ],
      "execution_count": null,
      "outputs": []
    },
    {
      "cell_type": "code",
      "metadata": {
        "id": "4W22fqnrTOVH"
      },
      "source": [
        "import pandas as pd\n",
        "submit = pd.read_csv('/content/data.csv')\n",
        "submit['Image'] = image_name\n",
        "submit['Class'] = class_name\n",
        "submit['XMIN'] = min_x\n",
        "submit['YMIN'] = min_y\n",
        "submit['XMAX'] = max_x\n",
        "submit['YMAX'] = max_y\n",
        "submit.to_csv('data.csv')"
      ],
      "execution_count": null,
      "outputs": []
    }
  ]
}